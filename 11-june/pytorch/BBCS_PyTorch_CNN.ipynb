{
  "cells": [
    {
      "cell_type": "markdown",
      "metadata": {
        "id": "kDvlQZnjT7gS"
      },
      "source": [
        "If you are unable to connect to a GPU runtime, connect with CPU. It may be slower but the code can handle CPU as well since we do an if-check."
      ]
    },
    {
      "cell_type": "code",
      "execution_count": 1,
      "metadata": {
        "id": "pErUdCo742aZ"
      },
      "outputs": [],
      "source": [
        "import torch\n",
        "import torchvision\n",
        "import torchvision.transforms as transforms\n",
        "import torch.nn as nn"
      ]
    },
    {
      "cell_type": "markdown",
      "metadata": {
        "id": "3a90OZIy6yik"
      },
      "source": [
        "## Loading the data\n",
        "\n",
        "We will be loading the dataset from CIFAR-10, a dataset with images of 60,000 32x32 images across 10 classes:  \n",
        "(ship, bird, frog, truck, automobile, deer, cat, dog, horse, airplane)"
      ]
    },
    {
      "cell_type": "code",
      "execution_count": 2,
      "metadata": {
        "colab": {
          "base_uri": "https://localhost:8080/"
        },
        "id": "HG7RDlX-7LH5",
        "outputId": "ad8e6b4a-2ed3-4b2f-c8bc-70105bc67829"
      },
      "outputs": [
        {
          "name": "stdout",
          "output_type": "stream",
          "text": [
            "My device is cuda:0\n",
            "Files already downloaded and verified\n",
            "Files already downloaded and verified\n"
          ]
        }
      ],
      "source": [
        "device = torch.device(\"cuda:0\" if torch.cuda.is_available() else \"cpu\")\n",
        "print(\"My device is\", device)\n",
        "transform = transforms.Compose(\n",
        "    [transforms.ToTensor(),\n",
        "     transforms.Normalize((0.5, 0.5, 0.5), (0.5, 0.5, 0.5))]) # Normalization\n",
        "\n",
        "batch_size = 4\n",
        "\n",
        "trainset = torchvision.datasets.CIFAR10(root='./data',\n",
        "                                        train=True, # Download the training dataset\n",
        "                                        download=True, transform=transform)\n",
        "\n",
        "trainloader = torch.utils.data.DataLoader(trainset, batch_size=batch_size,\n",
        "                                          shuffle=True, num_workers=2)\n",
        "\n",
        "testset = torchvision.datasets.CIFAR10(root='./data',\n",
        "                                       train=False, # Download the validation dataset\n",
        "                                       download=True, transform=transform)\n",
        "testloader = torch.utils.data.DataLoader(testset, batch_size=batch_size,\n",
        "                                         shuffle=False, num_workers=2)\n",
        "\n",
        "classes = ('plane', 'car', 'bird', 'cat',\n",
        "           'deer', 'dog', 'frog', 'horse', 'ship', 'truck')"
      ]
    },
    {
      "cell_type": "markdown",
      "metadata": {
        "id": "PelhyRDx8Fs7"
      },
      "source": [
        "Let's load some training images."
      ]
    },
    {
      "cell_type": "code",
      "execution_count": 3,
      "metadata": {
        "colab": {
          "base_uri": "https://localhost:8080/",
          "height": 212
        },
        "id": "2D4tExzS7ceI",
        "outputId": "b0351194-9896-4c67-9ea3-5bcdf4ad41cf"
      },
      "outputs": [
        {
          "data": {
            "image/png": "[encoded data removed]",
            "text/plain": [
              "<Figure size 640x480 with 1 Axes>"
            ]
          },
          "metadata": {},
          "output_type": "display_data"
        },
        {
          "name": "stdout",
          "output_type": "stream",
          "text": [
            "ship  truck truck ship \n"
          ]
        }
      ],
      "source": [
        "import matplotlib.pyplot as plt\n",
        "import numpy as np\n",
        "\n",
        "# functions to show an image\n",
        "\n",
        "\n",
        "def imshow(img):\n",
        "    img = img / 2 + 0.5     # unnormalize\n",
        "    npimg = img.numpy()\n",
        "    plt.imshow(np.transpose(npimg, (1, 2, 0)))\n",
        "    plt.show()\n",
        "\n",
        "\n",
        "# get some random training images\n",
        "dataiter = iter(trainloader)\n",
        "images, labels = next(dataiter)\n",
        "\n",
        "# show images\n",
        "imshow(torchvision.utils.make_grid(images))\n",
        "# print labels\n",
        "print(' '.join(f'{classes[labels[j]]:5s}' for j in range(batch_size)))"
      ]
    },
    {
      "cell_type": "markdown",
      "metadata": {
        "id": "KnWSTmB78Zyp"
      },
      "source": [
        "## Building the model\n",
        "\n",
        "We will build the model with Conv2d (Convolutional), ReLU, and Max Pooling layers.\n",
        "\n",
        "The debugger module (Debugger) has been specially designed to show you the size of the model while training.  \n",
        "\n",
        "1. The model starts out with [4, 3, 32, 32] which refers to batch size (defined above), color channels, and the width and height of image. Since we are using a color image, there are 3 channels, Red, Green and Blue.  \n",
        "2. After the Conv2d layer, the width and height are reduced by (kernel_size - 1), which is 4.\n",
        "3. ReLU does not change the size of the image, and is just an activation function.\n",
        "4. After MaxPool2d, image size is reduced by 2 since we specified a kernel size of 2 (which means 2x2), and a stride of 2.\n",
        "\n",
        "\n",
        "Feel free to comment out the line below and re-initialise the model, loss and optimiser to remove the debug statements. We can also see the accuracy at the very bottom of the logs."
      ]
    },
    {
      "cell_type": "code",
      "execution_count": 4,
      "metadata": {
        "id": "Y0k9GdFrCvnL"
      },
      "outputs": [],
      "source": [
        "class Debugger(nn.Module):\n",
        "    def __init__(self):\n",
        "        super().__init__()\n",
        "\n",
        "    def forward(self, x):\n",
        "        # print(\"Size:\", list(x.shape)) # Comment this line and re-init the model (and loss and optim) to remove the debug statements\n",
        "        return x"
      ]
    },
    {
      "cell_type": "code",
      "execution_count": 5,
      "metadata": {
        "colab": {
          "base_uri": "https://localhost:8080/"
        },
        "id": "9OxMLgGi8ZOT",
        "outputId": "7df630dd-0d5f-4623-adbc-7fb9a5c206c4"
      },
      "outputs": [
        {
          "data": {
            "text/plain": [
              "Sequential(\n",
              "  (0): Debugger()\n",
              "  (1): Conv2d(3, 6, kernel_size=(5, 5), stride=(1, 1))\n",
              "  (2): Debugger()\n",
              "  (3): ReLU()\n",
              "  (4): Conv2d(6, 16, kernel_size=(5, 5), stride=(1, 1))\n",
              "  (5): Debugger()\n",
              "  (6): ReLU()\n",
              "  (7): MaxPool2d(kernel_size=2, stride=2, padding=0, dilation=1, ceil_mode=False)\n",
              "  (8): Debugger()\n",
              "  (9): Flatten(start_dim=1, end_dim=-1)\n",
              "  (10): Debugger()\n",
              "  (11): Linear(in_features=2304, out_features=800, bias=True)\n",
              "  (12): ReLU()\n",
              "  (13): Linear(in_features=800, out_features=120, bias=True)\n",
              "  (14): ReLU()\n",
              "  (15): Linear(in_features=120, out_features=84, bias=True)\n",
              "  (16): ReLU()\n",
              "  (17): Linear(in_features=84, out_features=10, bias=True)\n",
              ")"
            ]
          },
          "execution_count": 5,
          "metadata": {},
          "output_type": "execute_result"
        }
      ],
      "source": [
        "model = nn.Sequential(\n",
        "    Debugger(),\n",
        "    nn.Conv2d(3, # input size\n",
        "              6, # output size\n",
        "              5), # kernel/filter size\n",
        "    Debugger(),\n",
        "    nn.ReLU(),\n",
        "    nn.Conv2d(6, 16, 5),\n",
        "    Debugger(),\n",
        "    nn.ReLU(),\n",
        "    nn.MaxPool2d(2, # kernel size\n",
        "                 2), # stride\n",
        "    Debugger(),\n",
        "    nn.Flatten(),\n",
        "    Debugger(),\n",
        "    nn.Linear(16 * 12 * 12, 800),\n",
        "    nn.ReLU(),\n",
        "    nn.Linear(800, 120),\n",
        "    nn.ReLU(),\n",
        "    nn.Linear(120, 84),\n",
        "    nn.ReLU(),\n",
        "    nn.Linear(84, 10)\n",
        ")\n",
        "model.to(device)"
      ]
    },
    {
      "cell_type": "code",
      "execution_count": 6,
      "metadata": {
        "id": "HUY5QZtu9TDt"
      },
      "outputs": [],
      "source": [
        "import torch.optim as optim\n",
        "\n",
        "# Use Cross Entropy loss\n",
        "loss_fn = nn.CrossEntropyLoss()\n",
        "optimizer = optim.SGD(model.parameters(), lr=0.0035)"
      ]
    },
    {
      "cell_type": "markdown",
      "metadata": {
        "id": "JcccAX2rfawg"
      },
      "source": [
        "## Training the model\n",
        "We shall train the model over 4 epochs, and for each epoch, we shall:\n",
        "- Iterate through every entry in the training dataset\n",
        "- Get a prediction from the model\n",
        "- Calculate loss\n",
        "- Backpropagate\n",
        "- Apply our optimization function\n",
        "- Print the loss every 2000 entries (in total there is 12500 entries since (train dataset 50000 / batch size 4))\n",
        "\n",
        "If for some reason your Colab instance cannot connect to a GPU-enabled runtime, this training will run slower; you can reduce epochs of training (`n_epochs`), and try another Google account."
      ]
    },
    {
      "cell_type": "code",
      "execution_count": 7,
      "metadata": {
        "colab": {
          "base_uri": "https://localhost:8080/"
        },
        "id": "IwuWex5L9yok",
        "outputId": "10c63705-0587-43f6-87d3-49196f5ef4f2"
      },
      "outputs": [
        {
          "name": "stdout",
          "output_type": "stream",
          "text": [
            "epoch, minibatch [1,  2000] loss: 2.301\n",
            "epoch, minibatch [1,  4000] loss: 2.215\n",
            "epoch, minibatch [1,  6000] loss: 2.016\n",
            "epoch, minibatch [1,  8000] loss: 1.882\n",
            "epoch, minibatch [1, 10000] loss: 1.791\n",
            "epoch, minibatch [1, 12000] loss: 1.693\n",
            "epoch, minibatch [2,  2000] loss: 1.614\n",
            "epoch, minibatch [2,  4000] loss: 1.582\n",
            "epoch, minibatch [2,  6000] loss: 1.544\n",
            "epoch, minibatch [2,  8000] loss: 1.502\n",
            "epoch, minibatch [2, 10000] loss: 1.444\n",
            "epoch, minibatch [2, 12000] loss: 1.413\n",
            "epoch, minibatch [3,  2000] loss: 1.362\n",
            "epoch, minibatch [3,  4000] loss: 1.329\n",
            "epoch, minibatch [3,  6000] loss: 1.334\n",
            "epoch, minibatch [3,  8000] loss: 1.320\n",
            "epoch, minibatch [3, 10000] loss: 1.297\n",
            "epoch, minibatch [3, 12000] loss: 1.271\n",
            "epoch, minibatch [4,  2000] loss: 1.171\n",
            "epoch, minibatch [4,  4000] loss: 1.173\n",
            "epoch, minibatch [4,  6000] loss: 1.177\n",
            "epoch, minibatch [4,  8000] loss: 1.163\n",
            "epoch, minibatch [4, 10000] loss: 1.147\n",
            "epoch, minibatch [4, 12000] loss: 1.137\n",
            "Finished Training\n"
          ]
        }
      ],
      "source": [
        "n_epochs = 4\n",
        "losses =[]\n",
        "for epoch in range(n_epochs):  # loop over the dataset multiple times\n",
        "\n",
        "    running_loss = 0.0\n",
        "    for i, data in enumerate(trainloader, 0):\n",
        "        # get the inputs; data is a list of [inputs, labels]\n",
        "        inputs, labels = data[0].to(device), data[1].to(device)\n",
        "        # zero the parameter gradients\n",
        "        optimizer.zero_grad()\n",
        "\n",
        "        # forward + backward + optimize\n",
        "        outputs = model(inputs)\n",
        "        loss = loss_fn(outputs, labels)\n",
        "        loss.backward()\n",
        "        optimizer.step()\n",
        "\n",
        "        # print statistics\n",
        "        running_loss += loss.item()\n",
        "        if i % 2000 == 1999:    # print every 2000 mini-batches\n",
        "            print(f'epoch, minibatch [{epoch + 1}, {i + 1:5d}] loss: {running_loss / 2000:.3f}')\n",
        "            losses.append(((epoch * 12000 + i), (running_loss / 2000)))\n",
        "            running_loss = 0.0\n",
        "\n",
        "print('Finished Training')\n"
      ]
    },
    {
      "cell_type": "code",
      "execution_count": 8,
      "metadata": {},
      "outputs": [],
      "source": [
        "import pandas as pd\n",
        "\n",
        "losses = pd.DataFrame(losses, columns=['minibatch','loss'])"
      ]
    },
    {
      "cell_type": "code",
      "execution_count": 9,
      "metadata": {},
      "outputs": [],
      "source": [
        "losses['minibatch'] = losses['minibatch'] + 1"
      ]
    },
    {
      "cell_type": "code",
      "execution_count": 10,
      "metadata": {},
      "outputs": [
        {
          "data": {
            "image/png": "[encoded data removed]",
            "text/plain": [
              "<Figure size 640x480 with 1 Axes>"
            ]
          },
          "metadata": {},
          "output_type": "display_data"
        }
      ],
      "source": [
        "losses.plot.line(x='minibatch',y='loss')\n",
        "plt.show()"
      ]
    },
    {
      "cell_type": "markdown",
      "metadata": {
        "id": "qPcKvWyFn__g"
      },
      "source": [
        "## Evaluation\n",
        "We shall now perform model evaluation on the data. To do this, we will:\n",
        "- Iterate through every entry in the testing dataset\n",
        "- Get a prediction from the model\n",
        "- Compare this against the correct label/class\n",
        "- Calculate accuracy (correct / total)"
      ]
    },
    {
      "cell_type": "code",
      "execution_count": 11,
      "metadata": {
        "colab": {
          "base_uri": "https://localhost:8080/"
        },
        "id": "--Zl1Vcl-hzB",
        "outputId": "2b28b84d-e9d6-4296-e814-5dfbc1775240"
      },
      "outputs": [
        {
          "name": "stdout",
          "output_type": "stream",
          "text": [
            "Accuracy of the network on the 10000 test images: 58 %\n"
          ]
        }
      ],
      "source": [
        "correct = 0\n",
        "total = 0\n",
        "# since we're not training, we don't need to calculate the gradients for our outputs\n",
        "model.eval()\n",
        "with torch.no_grad():\n",
        "    for data in testloader:\n",
        "        images, labels = data[0].to(device), data[1].to(device)\n",
        "        # calculate outputs by running images through the network\n",
        "        outputs = model(images)\n",
        "        # the class with the highest is what we choose as prediction\n",
        "        _, predicted = torch.max(outputs.data, 1)\n",
        "        total += labels.size(0)\n",
        "        correct += (predicted == labels).sum().item()\n",
        "\n",
        "print(f'Accuracy of the network on the 10000 test images: {100 * correct // total} %')"
      ]
    },
    {
      "cell_type": "markdown",
      "metadata": {
        "id": "u_VPwfZuotjs"
      },
      "source": [
        "## Inference\n",
        "We can now use the model we have trained to predict the class of an image 🎉  \n",
        "Let us use testing dataset as the model has not been trained on it before."
      ]
    },
    {
      "cell_type": "code",
      "execution_count": 12,
      "metadata": {
        "colab": {
          "base_uri": "https://localhost:8080/",
          "height": 174
        },
        "id": "j-Rf-tSupJx4",
        "outputId": "123a6eb2-7363-4f94-c4ec-14afc50c32c2"
      },
      "outputs": [
        {
          "data": {
            "image/png": "[encoded data removed]",
            "text/plain": [
              "<Figure size 640x480 with 1 Axes>"
            ]
          },
          "metadata": {},
          "output_type": "display_data"
        },
        {
          "name": "stdout",
          "output_type": "stream",
          "text": [
            "Truth: cat ship ship plane\n",
            "Prediction: cat ship plane ship\n"
          ]
        }
      ],
      "source": [
        "images, labels = next(iter(testloader))\n",
        "imshow(torchvision.utils.make_grid(images))\n",
        "print('Truth:', ' '.join(classes[labels[i]] for i in range(batch_size)))\n",
        "images, labels = images.to(device), labels.to(device)\n",
        "outputs = model(images)\n",
        "_, pred = torch.max(outputs.data, 1)\n",
        "print(\"Prediction:\", ' '.join(classes[pred[i].item()] for i in range(batch_size)))"
      ]
    }
  ],
  "metadata": {
    "accelerator": "GPU",
    "colab": {
      "gpuType": "T4",
      "provenance": []
    },
    "kernelspec": {
      "display_name": "Python 3",
      "name": "python3"
    },
    "language_info": {
      "codemirror_mode": {
        "name": "ipython",
        "version": 3
      },
      "file_extension": ".py",
      "mimetype": "text/x-python",
      "name": "python",
      "nbconvert_exporter": "python",
      "pygments_lexer": "ipython3",
      "version": "3.12.1"
    }
  },
  "nbformat": 4,
  "nbformat_minor": 0
}
